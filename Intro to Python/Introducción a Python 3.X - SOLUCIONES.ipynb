{
 "cells": [
  {
   "cell_type": "markdown",
   "metadata": {
    "ExecuteTime": {
     "end_time": "2018-06-15T20:48:34.293085Z",
     "start_time": "2018-06-15T20:48:34.277460Z"
    }
   },
   "source": [
    "#  <center> Introducción a Python 3.X - SOLUCIONES</center>\n",
    "<img src=\"files/python.png\" width=\"250\">"
   ]
  },
  {
   "cell_type": "markdown",
   "metadata": {
    "ExecuteTime": {
     "end_time": "2018-06-15T20:48:44.626747Z",
     "start_time": "2018-06-15T20:48:44.616905Z"
    }
   },
   "source": [
    "<p style=\"background-color:#660066; color:#fff;padding:5px; font-weight:bold\">Solucion Ejercicio 1. Python</p>"
   ]
  },
  {
   "cell_type": "markdown",
   "metadata": {
    "ExecuteTime": {
     "end_time": "2018-06-15T20:58:34.419478Z",
     "start_time": "2018-06-15T20:58:34.405885Z"
    }
   },
   "source": [
    "Completar la funcion **juega_en_mundial** para que dado una lista de **dias** y una **pais** de interes, retorne una lista de booleanos (**juega_pais**) indicando en que dias juega (o no) el pais de interes.\n",
    "\n"
   ]
  },
  {
   "cell_type": "code",
   "execution_count": 1,
   "metadata": {
    "ExecuteTime": {
     "end_time": "2018-06-16T00:04:05.244862Z",
     "start_time": "2018-06-16T00:04:05.177039Z"
    }
   },
   "outputs": [
    {
     "name": "stdout",
     "output_type": "stream",
     "text": [
      "[False, True, False]\n",
      "[True, False, True]\n",
      "[False, False, True]\n"
     ]
    }
   ],
   "source": [
    "def juega_en_mundial (dias, pais):\n",
    "    \"\"\"\n",
    "    Funciones que dado una lista de dias (compuesta por multiples Strings)\n",
    "    y un pais de interes (compuesto por un string), debe retornar\n",
    "    \n",
    "    Args Input:\n",
    "        dias: lista de strings conteniendo dias de la semana ej. \"miercoles\"\n",
    "        pais: string conteniedo el pais de interes ej. \"portugal\"\n",
    "        \n",
    "    Output:\n",
    "        juega_pais: lista de booleanos (True o False) indicando si el pais\n",
    "        juega o no en cada uno de los dias      \n",
    "    \n",
    "    \"\"\"\n",
    "    # Tabla de Juegos (NO modificar)\n",
    "    horario_juegos = {\n",
    "        \"lunes\": [\"Mexico\", \"Brazil\"],\n",
    "        \"martes\": [\"Colombia\", \"Alemania\"],\n",
    "        \"miercoles\": [\"Francia\", \"Portugal\"],\n",
    "        \"jueves\": [\"Rusia\", \"Saudi Arabia\"],\n",
    "        \"viernes\":[\"Islandia\", \"Colombia\"]   \n",
    "    }\n",
    "    \n",
    "    # Lista de booleanos\n",
    "    juega_pais = []\n",
    "    \n",
    "    \"*** YOUR CODE HERE ***\"\n",
    "    for dia in dias:\n",
    "        \n",
    "        if pais in horario_juegos[dia]:            \n",
    "            juega_pais.append(True)\n",
    "            \n",
    "        else:\n",
    "            juega_pais.append(False)\n",
    "            \n",
    "    return juega_pais\n",
    "            \n",
    "        \n",
    "# Datos para probar codigo     \n",
    "dias = [\"lunes\", \"martes\", \"jueves\"]\n",
    "pais = \"Colombia\"\n",
    "print(juega_en_mundial (dias, pais))\n",
    "\n",
    "dias = [\"martes\", \"jueves\", \"viernes\"]\n",
    "pais = \"Colombia\"\n",
    "print(juega_en_mundial (dias, pais))\n",
    "\n",
    "dias = [\"martes\", \"jueves\", \"viernes\"]\n",
    "pais = \"Islandia\"\n",
    "print(juega_en_mundial (dias, pais))"
   ]
  },
  {
   "cell_type": "markdown",
   "metadata": {
    "ExecuteTime": {
     "end_time": "2018-06-15T23:54:31.671107Z",
     "start_time": "2018-06-15T23:54:31.665390Z"
    }
   },
   "source": [
    "<p style=\"background-color:#660066; color:#fff;padding:5px; font-weight:bold\">Solucion Ejercicio 1. Numpy </p>"
   ]
  },
  {
   "cell_type": "markdown",
   "metadata": {
    "ExecuteTime": {
     "end_time": "2018-06-15T23:54:43.717517Z",
     "start_time": "2018-06-15T23:54:43.707822Z"
    }
   },
   "source": [
    "Completa la funcion **red_neuronal_simple** la cual calcula la activacion de una neurona dada una matriz de entrada **x** y una serie de parametros **W**, **b**, y **thr**. La funcion a implementar es: \n",
    "\n",
    "$act = x.W + b > thr = x_1.w_1 + x_2.w_2 +b > thr$"
   ]
  },
  {
   "cell_type": "code",
   "execution_count": 1,
   "metadata": {
    "ExecuteTime": {
     "end_time": "2018-06-16T00:15:20.051923Z",
     "start_time": "2018-06-16T00:15:19.651618Z"
    }
   },
   "outputs": [
    {
     "name": "stdout",
     "output_type": "stream",
     "text": [
      "Etiqueta Correcta: [0 0 0 1] , Prediccion de Red: [False False False  True]\n"
     ]
    }
   ],
   "source": [
    "import numpy as np\n",
    "import matplotlib.pyplot as plt #\"*** YOUR CODE HERE ***\" # importar libreria para graficación\n",
    "%matplotlib inline\n",
    "plt.rcParams['figure.figsize'] = [10, 5]\n",
    "\n",
    "\n",
    "def red_neuronal_simple(x, W, b, thr):\n",
    "    \"\"\"\n",
    "    Funcion que calcula la salida de una neurona.\n",
    "    Primero se debe calcular la neta de la neurona, es decir, el producto entre la entrada x y los\n",
    "    pesos W mas el intercepto b (act = x.W1 + b)\n",
    "    Despues se debe calcular la activacion, lo cual se hace determinando si la neta\n",
    "    es mayor que el umbral thr\n",
    "    \n",
    "    Args Input:\n",
    "        x: vector o matriz de entrada\n",
    "        W: vector o matriz de pesos\n",
    "        b: Escalar determinando el intercepto\n",
    "        thr: Umbral determinando cuando la neurona esta activa\n",
    "        \n",
    "    Output:\n",
    "        act: vector booleanos indicando si la neurona esta activa o no para cada una de las entradas\n",
    "    \"\"\"\n",
    "    # Feedforward pass\n",
    "    \"*** YOUR CODE HERE ***\"\n",
    "    neta = np.dot(x, W) + b # calcular neta\n",
    "    act = neta > thr # calcular si la neurona esta activa basado en la neta y el umbra thr\n",
    "\n",
    "    return act\n",
    "    \n",
    "# Datos para probar codigo \n",
    "x = np.array([[0,0], [0,1],[1,0], [1,1]])\n",
    "W = np.array([1,1])\n",
    "b = 2\n",
    "thr = 3\n",
    "clasificacion = red_neuronal_simple(x, W, b, thr)\n",
    "\n",
    "y = np.array([0, 0, 0, 1])\n",
    "print(\"Etiqueta Correcta: {} , Prediccion de Red: {}\".format(y,clasificacion))"
   ]
  },
  {
   "cell_type": "markdown",
   "metadata": {},
   "source": [
    "<p style=\"background-color:#660066; color:#fff;padding:5px; font-weight:bold\">Solucion Ejercicio 2. Matplotlib</p>"
   ]
  },
  {
   "cell_type": "markdown",
   "metadata": {
    "ExecuteTime": {
     "end_time": "2018-06-15T23:55:47.993426Z",
     "start_time": "2018-06-15T23:55:47.975303Z"
    }
   },
   "source": [
    "- Dado los datos de entrada **x** los cuales tienen 2 dimensions (2 columnas), graficar los datos como puntos individuales, donde la *primera columna indica la posicion en el eje x* y la *segunda columna indica la posicion en el eje y*\n",
    "\n",
    "\n",
    "- Graficar la funcion de separación determinada por la red neuronal, la cual esta dada por la siguiente ecuacion. Graficar dicha funcion como una linea continua\n",
    "\n",
    "**NOTA:** Usar como vector de entrada la variable del codigo llamada *x_grid*\n",
    "\n",
    "$ f(x) = \\frac{-W_0}{W_1}.x_{grid} - \\frac{b}{W_1} + thr$"
   ]
  },
  {
   "cell_type": "code",
   "execution_count": 2,
   "metadata": {
    "ExecuteTime": {
     "end_time": "2018-06-16T00:15:24.329428Z",
     "start_time": "2018-06-16T00:15:23.829191Z"
    }
   },
   "outputs": [
    {
     "data": {
      "image/png": "[encoded data removed]",
      "text/plain": [
       "<matplotlib.figure.Figure at 0x7f3e2b9f9940>"
      ]
     },
     "metadata": {},
     "output_type": "display_data"
    },
    {
     "data": {
      "image/png": "[encoded data removed]",
      "text/plain": [
       "<matplotlib.figure.Figure at 0x7f3e2b9f9940>"
      ]
     },
     "execution_count": 2,
     "metadata": {},
     "output_type": "execute_result"
    }
   ],
   "source": [
    "from matplotlib import cm\n",
    "# Graficar los datos de entrada como puntos individuales\n",
    "fig = plt.figure()  \n",
    "ax = fig.add_subplot(111)\n",
    "\"*** YOUR CODE HERE ***\"\n",
    "# TIP: Para graficar puntos indivudales usar la function ax.scatter(x,y) \n",
    "ax.scatter(x[:,0], x[:,1], color=\"orange\", s=100)\n",
    "\n",
    "x_grid = np.arange(-0.25,1.25,0.01)\n",
    "\"*** YOUR CODE HERE ***\"\n",
    "# TIP: Recuerda que para una grafica continua puedes usar el comando ax.plot(x,y) seguido de plt.show()\n",
    "f_x = (-W[0]/W[1])*x_grid - b/W[1] + thr\n",
    "ax.plot(x_grid, f_x, '--b', linewidth=2)\n",
    "plt.show()\n",
    "\n",
    "# Descomentar esto para ver como la Red Neuronal classifica '0' (azul) y '1' (rojo)\n",
    "y_hat = clasificacion.astype(int)\n",
    "ax.scatter(x[:,0], x[:,1], c=y_hat, s=130, cmap = cm.coolwarm)\n",
    "ax.get_figure()"
   ]
  },
  {
   "cell_type": "markdown",
   "metadata": {},
   "source": [
    "Cambia los valores de **W** y **b** y observa como la red neuronal empieza a cometer errores de clasificación. Intuitivamente todos los puntos por **encima** de la linea de sepracion son clasificados como '1'. Matematicamente, la dirección en la cual apunta el vector **W** indica que puntos seran clasificados como '1'."
   ]
  },
  {
   "cell_type": "code",
   "execution_count": 17,
   "metadata": {
    "ExecuteTime": {
     "end_time": "2018-06-16T00:20:01.309268Z",
     "start_time": "2018-06-16T00:20:00.979526Z"
    }
   },
   "outputs": [
    {
     "data": {
      "image/png": "[encoded data removed]",
      "text/plain": [
       "<matplotlib.figure.Figure at 0x7f3e29874550>"
      ]
     },
     "metadata": {},
     "output_type": "display_data"
    }
   ],
   "source": [
    "# Valores Optimos\n",
    "x = np.array([[0,0], [0,1],[1,0], [1,1]])\n",
    "W = np.array([1,1])\n",
    "b = 2\n",
    "thr = 3\n",
    "\n",
    "# Ingresa y experimenta con tus propios valores de W y b\n",
    "W = np.array([1,1])\n",
    "b = 3\n",
    "clasificacion = red_neuronal_simple(x, W, b, thr)\n",
    "\n",
    "# Graficación\n",
    "x_grid = np.arange(-0.25,1.25,0.01)\n",
    "f_x = (-W[0]/W[1])*x_grid - b/W[1] + thr\n",
    "\n",
    "fig = plt.figure()  \n",
    "ax = fig.add_subplot(111)\n",
    "ax.plot(x_grid, f_x, '--b', linewidth=2)\n",
    "\n",
    "y_hat = clasificacion.astype(int)\n",
    "ax.scatter(x[:,0], x[:,1], c=y_hat, s=130, cmap = cm.coolwarm)\n",
    "plt.show()"
   ]
  }
 ],
 "metadata": {
  "kernelspec": {
   "display_name": "Python 3",
   "language": "python",
   "name": "python3"
  },
  "language_info": {
   "codemirror_mode": {
    "name": "ipython",
    "version": 3
   },
   "file_extension": ".py",
   "mimetype": "text/x-python",
   "name": "python",
   "nbconvert_exporter": "python",
   "pygments_lexer": "ipython3",
   "version": "3.6.2"
  }
 },
 "nbformat": 4,
 "nbformat_minor": 2
}
